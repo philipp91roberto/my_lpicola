{
 "cells": [
  {
   "cell_type": "code",
   "execution_count": null,
   "metadata": {
    "collapsed": true
   },
   "outputs": [],
   "source": [
    "import sys, os\n",
    "\n",
    "%matplotlib inline\n",
    "import matplotlib as mpl\n",
    "import matplotlib.pyplot as plt\n",
    "from matplotlib.mlab import griddata\n",
    "from matplotlib import cm\n",
    "import matplotlib.image as mpimg\n",
    "import matplotlib.gridspec as gridspec"
   ]
  },
  {
   "cell_type": "code",
   "execution_count": null,
   "metadata": {
    "collapsed": true
   },
   "outputs": [],
   "source": [
    "mpl.rcParams['text.usetex'] = True\n",
    "mpl.rcParams['font.family'] = 'serif'\n",
    "mpl.rcParams['font.sans-serif'] = ['Tahoma']\n",
    "mpl.rcParams['figure.figsize']   = (18,5)\n",
    "mpl.rcParams['figure.dpi']       = 200\n",
    "mpl.rcParams['figure.titlesize'] = 20\n",
    "mpl.rcParams['axes.titlesize']   = 15\n",
    "mpl.rcParams['axes.labelsize']   = 15\n",
    "mpl.rcParams['axes.titlepad']    = 20\n",
    "mpl.rcParams['lines.linewidth']  = 0.8\n",
    "mpl.rcParams['lines.markersize'] = 0.5"
   ]
  },
  {
   "cell_type": "code",
   "execution_count": null,
   "metadata": {
    "collapsed": true
   },
   "outputs": [],
   "source": [
    "import numpy as np"
   ]
  },
  {
   "cell_type": "code",
   "execution_count": null,
   "metadata": {
    "collapsed": true
   },
   "outputs": [],
   "source": [
    "# this script contains function to read gadget and lpicola files\n",
    "\n",
    "from data2array import *"
   ]
  },
  {
   "cell_type": "code",
   "execution_count": null,
   "metadata": {
    "collapsed": true
   },
   "outputs": [],
   "source": [
    "cwd = os.getcwd()"
   ]
  },
  {
   "cell_type": "code",
   "execution_count": null,
   "metadata": {
    "collapsed": true
   },
   "outputs": [],
   "source": [
    "from fft_solver import *"
   ]
  },
  {
   "cell_type": "code",
   "execution_count": null,
   "metadata": {
    "collapsed": true
   },
   "outputs": [],
   "source": [
    "from healpy_plotter import *"
   ]
  },
  {
   "cell_type": "code",
   "execution_count": null,
   "metadata": {
    "collapsed": true
   },
   "outputs": [],
   "source": [
    "Nmesh = 2**8\n",
    "Box = 100\n",
    "Nsample = 128\n",
    "hubble = 100    # in code units\n",
    "scale = Box/Nmesh\n",
    "xoHo = scale*hubble"
   ]
  },
  {
   "cell_type": "markdown",
   "metadata": {},
   "source": [
    "## L-PICOLA"
   ]
  },
  {
   "cell_type": "markdown",
   "metadata": {},
   "source": [
    "In this section I work on data from L-PICOLA. Currently version 10 is the best."
   ]
  },
  {
   "cell_type": "code",
   "execution_count": null,
   "metadata": {
    "collapsed": true
   },
   "outputs": [],
   "source": [
    "# This version is the original PM\n",
    "\n",
    "path2data_lpicola = '/Volumes/ipa/refreg/data/L-PICOLA/Philipp/mod_L-PICOLA/Box_100Mpc_o_h_v10/'"
   ]
  },
  {
   "cell_type": "code",
   "execution_count": null,
   "metadata": {},
   "outputs": [],
   "source": [
    "# here we read just one snapshot of l-picola\n",
    "\n",
    "l_z0p000_data = get_lpicola_snap(filenamebase='out_z0p000', path2data_lpicola= path2data_lpicola)\n",
    "l_z0p000_pos = l_z0p000_data[0]\n",
    "l_z0p000_gpot = l_z0p000_data[2]"
   ]
  },
  {
   "cell_type": "code",
   "execution_count": null,
   "metadata": {
    "collapsed": true
   },
   "outputs": [],
   "source": [
    "pos_l = np.loadtxt('data/lpicola/simulation/l_z0p000_pos_sim')\n",
    "gpot_l_sim = np.loadtxt('data/lpicola/simulation/l_z0p000_gpot_sim')"
   ]
  },
  {
   "cell_type": "code",
   "execution_count": null,
   "metadata": {
    "collapsed": true
   },
   "outputs": [],
   "source": [
    "# transformation from cartesian to spherical coordintes centred in the middle of the box\n",
    "\n",
    "l_z0p000_pos_spher = cart2spher((l_z0p000_pos - 50))"
   ]
  },
  {
   "cell_type": "code",
   "execution_count": null,
   "metadata": {
    "collapsed": true
   },
   "outputs": [],
   "source": [
    "pos_l_spher = np.loadtxt('data/lpicola/simulation/l_z0p000_pos_spher_sim')"
   ]
  },
  {
   "cell_type": "code",
   "execution_count": null,
   "metadata": {},
   "outputs": [],
   "source": [
    "l_z0p000_potmap, l_z0p000_potmap_image = healpix_field(2**9, 2**6, [l_z0p000_pos - 50, l_z0p000_gpot / xoHo**2], \n",
    "                                                       minv=-2500, maxv=350, \n",
    "                                                       spherical=False, monopol=0, dipol=0)"
   ]
  },
  {
   "cell_type": "code",
   "execution_count": null,
   "metadata": {
    "collapsed": true
   },
   "outputs": [],
   "source": [
    "l_z0p000_potmap_ps = hp.anafast(l_z0p000_potmap)"
   ]
  },
  {
   "cell_type": "code",
   "execution_count": null,
   "metadata": {
    "collapsed": true
   },
   "outputs": [],
   "source": [
    "l_z0p000_densmap, l_z0p000_densmap_image = healpix_density(2**6, l_z0p000_pos - 50, \n",
    "                                                           minv=None, maxv=None, normfac=1.)"
   ]
  },
  {
   "cell_type": "code",
   "execution_count": null,
   "metadata": {
    "collapsed": true
   },
   "outputs": [],
   "source": [
    "l_z0p000_densmap_ps = hp.anafast(l_z0p000_densmap)"
   ]
  },
  {
   "cell_type": "code",
   "execution_count": null,
   "metadata": {},
   "outputs": [],
   "source": [
    "gpot_l_fft_hpmap, gpot_l_hpmap_im = healpix_field(2**9, 2**6, [pos_l - 50, gpot_l_fft], \n",
    "                                                  minv=-2500, maxv=350, \n",
    "                                                  spherical=False, monopol=0, dipol=0)"
   ]
  },
  {
   "cell_type": "code",
   "execution_count": null,
   "metadata": {
    "collapsed": true
   },
   "outputs": [],
   "source": [
    "gpot_l_fft = np.loadtxt('data/lpicola/poisson/l_z0p000_gpot_fft_part2h8')\n",
    "gpot_l_fft_hpmap = np.loadtxt('data/lpicola/poisson/gpot_l_part_2h8_hmap')"
   ]
  },
  {
   "cell_type": "code",
   "execution_count": null,
   "metadata": {
    "collapsed": true
   },
   "outputs": [],
   "source": [
    "gpot_l_fft_hpmap_ps = np.loadtxt('data/lpicola/poisson/gpot_l_part_2h8_hpmap_ps')"
   ]
  },
  {
   "cell_type": "code",
   "execution_count": null,
   "metadata": {
    "collapsed": true
   },
   "outputs": [],
   "source": [
    "pos_l_spher = cart2spher(pos_l - 50)"
   ]
  },
  {
   "cell_type": "code",
   "execution_count": null,
   "metadata": {
    "collapsed": true
   },
   "outputs": [],
   "source": [
    "gpot_l_sim = np.loadtxt('data/lpicola/simulation/l_z0p000_gpot_sim')\n",
    "pos_l_spher = np.loadtxt('data/lpicola/simulation/l_z0p000_pos_spher_sim')\n",
    "gpot_l_fft = np.loadtxt('data/lpicola/poisson/l_z0p000_gpot_fft_part2h8')"
   ]
  },
  {
   "cell_type": "code",
   "execution_count": null,
   "metadata": {
    "collapsed": true
   },
   "outputs": [],
   "source": [
    "err4lpicola = np.loadtxt('data/lpicola/err4lpicola_100mesh')"
   ]
  },
  {
   "cell_type": "code",
   "execution_count": null,
   "metadata": {
    "collapsed": true
   },
   "outputs": [],
   "source": [
    "gpot_l_fft_rproj_errp = average_shells(pos_l_spher[:,0], gpot_l_fft + err4lpicola, 100)"
   ]
  },
  {
   "cell_type": "code",
   "execution_count": null,
   "metadata": {
    "collapsed": true
   },
   "outputs": [],
   "source": [
    "gpot_l_fft_rproj_errm = average_shells(pos_l_spher[:,0], gpot_l_fft - err4lpicola, 100)"
   ]
  },
  {
   "cell_type": "code",
   "execution_count": null,
   "metadata": {
    "collapsed": true
   },
   "outputs": [],
   "source": [
    "np.savetxt('data/lpicola/poisson/l_z0p000_gpot_fft_rproj_shellpos_part2h8', gpot_l_fft_rproj[0])\n",
    "np.savetxt('data/lpicola/poisson/l_z0p000_gpot_fft_rproj_meanval_part2h8', gpot_l_fft_rproj[1])\n",
    "np.savetxt('data/lpicola/simulation/l_z0p000_gpot_sim_rproj_shellpos_part2h8', gpot_l_sim_rproj[0])\n",
    "np.savetxt('data/l/l_z0p000_gpot_sim_rproj_meanval_part2h8', gpot_l_sim_rproj[1])"
   ]
  },
  {
   "cell_type": "code",
   "execution_count": null,
   "metadata": {
    "collapsed": true
   },
   "outputs": [],
   "source": [
    "pos_l_spher = np.loadtxt('data/lpicola/l_z0p000_pos_spher_sim')"
   ]
  },
  {
   "cell_type": "code",
   "execution_count": null,
   "metadata": {
    "collapsed": true
   },
   "outputs": [],
   "source": [
    "gpot_l_fft = np.loadtxt('data/lpicola/l_z0p000_gpot_fft_part2h8')"
   ]
  },
  {
   "cell_type": "code",
   "execution_count": null,
   "metadata": {
    "collapsed": true
   },
   "outputs": [],
   "source": [
    "gpot_l_fft_rproj_erru = average_shells(pos_l_spher[:,0], gpot_l_fft + err4lpicola, 100)"
   ]
  },
  {
   "cell_type": "code",
   "execution_count": null,
   "metadata": {
    "collapsed": true
   },
   "outputs": [],
   "source": [
    "gpot_l_fft_rproj_errd = average_shells(pos_l_spher[:,0], gpot_l_fft - err4lpicola, 100)"
   ]
  },
  {
   "cell_type": "code",
   "execution_count": null,
   "metadata": {
    "collapsed": true
   },
   "outputs": [],
   "source": [
    "np.savetxt('data/lpicola/l_z0p000_gpot_fft_rproj_meanvalerru_part2h8', gpot_l_fft_rproj_erru[1])\n",
    "np.savetxt('data/lpicola/l_z0p000_gpot_fft_rproj_meanvalerrd_part2h8', gpot_l_fft_rproj_errd[1])"
   ]
  },
  {
   "cell_type": "markdown",
   "metadata": {},
   "source": [
    "## GADGET"
   ]
  },
  {
   "cell_type": "markdown",
   "metadata": {},
   "source": [
    "In this section I work on data from GADGET."
   ]
  },
  {
   "cell_type": "code",
   "execution_count": null,
   "metadata": {
    "collapsed": true
   },
   "outputs": [],
   "source": [
    "gpot_g_sim = np.loadtxt('data/gadget/g_z0p000_gpot_sim')\n",
    "pos_g = np.loadtxt('data/gadget/g_z0p000_pos_sim')\n",
    "gpot_g_fft = np.loadtxt('data/gadget/g_z0p000_gpot_fft_part2h8')"
   ]
  },
  {
   "cell_type": "code",
   "execution_count": null,
   "metadata": {
    "collapsed": true
   },
   "outputs": [],
   "source": [
    "path2data_gadget = '/Volumes/ipa/refreg/data/L-PICOLA/Philipp/Gadget_runs/Box_100Mpc_o_h/'"
   ]
  },
  {
   "cell_type": "code",
   "execution_count": null,
   "metadata": {
    "collapsed": true
   },
   "outputs": [],
   "source": [
    "# here we read all files of the gadget sim to into a list\n",
    "\n",
    "g_wholesim_data = get_gadget_snaps(range(11), path2data_gadget)"
   ]
  },
  {
   "cell_type": "code",
   "execution_count": null,
   "metadata": {
    "collapsed": true
   },
   "outputs": [],
   "source": [
    "g_wholesim_data[10]['mass']"
   ]
  },
  {
   "cell_type": "code",
   "execution_count": null,
   "metadata": {
    "collapsed": true,
    "scrolled": true
   },
   "outputs": [],
   "source": [
    "# extracting the particle positions (comoving coordinates n) of the whole sim box created by gadget; 1st list entry \n",
    "\n",
    "g_z0p000_pos = g_wholesim_data[10]['pos']"
   ]
  },
  {
   "cell_type": "code",
   "execution_count": null,
   "metadata": {
    "collapsed": true
   },
   "outputs": [],
   "source": [
    "# transformation from cartesian to spherical coordintes centred in the middle of the box\n",
    "\n",
    "g_z0p000_pos_spher = cart2spher(np.array(g_z0p000_pos) - 50)"
   ]
  },
  {
   "cell_type": "code",
   "execution_count": null,
   "metadata": {
    "collapsed": true
   },
   "outputs": [],
   "source": [
    "# getting the potential from the particles rendered by gadget\n",
    "\n",
    "g_z0p000_gpot = g_wholesim_data[10]['u']"
   ]
  },
  {
   "cell_type": "code",
   "execution_count": null,
   "metadata": {
    "collapsed": true
   },
   "outputs": [],
   "source": [
    "g_z0p000_potmap, g_z0p000_potmap_image = healpix_field(2**9, 2**6, [g_z0p000_pos - 50, g_z0p000_gpot],\n",
    "                                                       minv=-3.54717e6, maxv=501578,\n",
    "                                                       spherical=False, monopol=0, dipol=0)"
   ]
  },
  {
   "cell_type": "code",
   "execution_count": null,
   "metadata": {
    "collapsed": true
   },
   "outputs": [],
   "source": [
    "g_z0p000_potmap_ps = hp.anafast(g_z0p000_potmap)"
   ]
  },
  {
   "cell_type": "code",
   "execution_count": null,
   "metadata": {
    "collapsed": true
   },
   "outputs": [],
   "source": [
    "g_z0p000_densmap, g_z0p000_densmap_image = healpix_density(2**6, g_z0p000_pos - 50, \n",
    "                                                           minv=0, maxv=3087, normfac=1)"
   ]
  },
  {
   "cell_type": "code",
   "execution_count": null,
   "metadata": {
    "collapsed": true
   },
   "outputs": [],
   "source": [
    "g_z0p000_densmap_ps = hp.anafast(g_z0p000_densmap)"
   ]
  },
  {
   "cell_type": "code",
   "execution_count": null,
   "metadata": {
    "collapsed": true
   },
   "outputs": [],
   "source": [
    "gpot_g_mesh_2h8 = poisson_solver(Nmesh, Box, Nsample, pos_g, omega0=0.276)"
   ]
  },
  {
   "cell_type": "code",
   "execution_count": null,
   "metadata": {
    "collapsed": true
   },
   "outputs": [],
   "source": [
    "gpot_g_mesh2h8 = np.real_if_close(gpot_g_mesh_2h8,1e10)"
   ]
  },
  {
   "cell_type": "code",
   "execution_count": null,
   "metadata": {
    "collapsed": true
   },
   "outputs": [],
   "source": [
    "np.savetxt('data/gadget/g_z0p000_gpot_mesh2h8', gpot_g_mesh2h8.reshape(-1))"
   ]
  },
  {
   "cell_type": "code",
   "execution_count": null,
   "metadata": {
    "collapsed": true
   },
   "outputs": [],
   "source": [
    "gpot_g_part_2h8 = ICIC(Nmesh, Box, pos_g, gpot_g_mesh2h8)"
   ]
  },
  {
   "cell_type": "code",
   "execution_count": null,
   "metadata": {
    "collapsed": true
   },
   "outputs": [],
   "source": [
    "np.savetxt('data/gadget/g_z0p000_gpot_part2h8', gpot_g_part_2h8)"
   ]
  },
  {
   "cell_type": "code",
   "execution_count": null,
   "metadata": {
    "collapsed": true
   },
   "outputs": [],
   "source": [
    "healpix_meshfield(2**11, 2**7, gpot_g_mesh2h8, minv=None, maxv=None, monopol=0, dipol=0)"
   ]
  },
  {
   "cell_type": "code",
   "execution_count": null,
   "metadata": {
    "collapsed": true
   },
   "outputs": [],
   "source": [
    "pos_g = np.loadtxt('data/gadget/simulation/g_z0p000_pos_sim')\n",
    "gpot_g_part_2h8 = np.loadtxt('data/gadget/poisson/g_z0p000_gpot_fft_part2h8')"
   ]
  },
  {
   "cell_type": "code",
   "execution_count": null,
   "metadata": {},
   "outputs": [],
   "source": [
    "gpot_g_part_2h8_hpmap, gpot_g_part_2h8_im = healpix_field(2**9, 2**6, [pos_g - 50, gpot_g_part_2h8], \n",
    "                                                                       minv=-600, maxv=300, spherical=False, \n",
    "                                                                       monopol=0, dipol=0)"
   ]
  },
  {
   "cell_type": "code",
   "execution_count": null,
   "metadata": {
    "collapsed": true
   },
   "outputs": [],
   "source": [
    "np.savetxt('data/gadget/poisson/gpot_g_part_2h8_hpmap', gpot_g_part_2h8_hpmap)"
   ]
  },
  {
   "cell_type": "code",
   "execution_count": null,
   "metadata": {
    "collapsed": true
   },
   "outputs": [],
   "source": [
    "gpot_g = np.loadtxt('data/gadget/simulation/g_z0p000_gpot_sim')"
   ]
  },
  {
   "cell_type": "code",
   "execution_count": null,
   "metadata": {},
   "outputs": [],
   "source": [
    "gpot_g_hpmap, gpot_g_im = healpix_field(2**9, 2**6, [pos_g - 50, gpot_g / xoHo**2], \n",
    "                                                     minv=None, maxv=None, spherical=False, \n",
    "                                                     monopol=0, dipol=0)"
   ]
  },
  {
   "cell_type": "code",
   "execution_count": null,
   "metadata": {
    "collapsed": true
   },
   "outputs": [],
   "source": [
    "np.savetxt('data/gadget/simulation/gpot_g_hpmap', gpot_g_hpmap)"
   ]
  },
  {
   "cell_type": "code",
   "execution_count": null,
   "metadata": {
    "collapsed": true
   },
   "outputs": [],
   "source": [
    "gpot_g_part_2h8_hpmap_ps = hp.anafast(gpot_g_part_2h8_hpmap)"
   ]
  },
  {
   "cell_type": "code",
   "execution_count": null,
   "metadata": {
    "collapsed": true
   },
   "outputs": [],
   "source": [
    "gpot_g_part_2h8_hpmap_ps = hp.anafast(gpot_g_part_2h8_hpmap)"
   ]
  },
  {
   "cell_type": "code",
   "execution_count": null,
   "metadata": {
    "collapsed": true
   },
   "outputs": [],
   "source": [
    "gpot_gdiff_part_2h8 = (gpot_g_part_2h8 - gpot_g / xoHo**2) / (gpot_g / xoHo**2)"
   ]
  },
  {
   "cell_type": "code",
   "execution_count": null,
   "metadata": {
    "collapsed": true
   },
   "outputs": [],
   "source": [
    "gpot_gdiff_hpmap, gpot_gdiff_im = healpix_field(2**9, 2**6, [pos_g - 50, gpot_gdiff_part_2h8], \n",
    "                                                     minv=-800, maxv=800, spherical=False, \n",
    "                                                     monopol=0, dipol=0)"
   ]
  },
  {
   "cell_type": "markdown",
   "metadata": {},
   "source": [
    "### New"
   ]
  },
  {
   "cell_type": "code",
   "execution_count": null,
   "metadata": {
    "collapsed": true
   },
   "outputs": [],
   "source": [
    "pos_g_spher = cart2spher(pos_g - 50)"
   ]
  },
  {
   "cell_type": "code",
   "execution_count": null,
   "metadata": {
    "collapsed": true
   },
   "outputs": [],
   "source": [
    "gpot_g_fft = np.loadtxt('data/gadget/poisson/g_z0p000_gpot_fft_part2h8')"
   ]
  },
  {
   "cell_type": "code",
   "execution_count": null,
   "metadata": {
    "collapsed": true
   },
   "outputs": [],
   "source": [
    "gpot_g_sim = np.loadtxt('data/gadget/simulation/g_z0p000_gpot_sim')"
   ]
  },
  {
   "cell_type": "code",
   "execution_count": null,
   "metadata": {
    "collapsed": true
   },
   "outputs": [],
   "source": [
    "err4gadget = np.loadtxt('data/gadget/err4gadget_100mesh')"
   ]
  },
  {
   "cell_type": "code",
   "execution_count": null,
   "metadata": {
    "collapsed": true
   },
   "outputs": [],
   "source": [
    "gpot_g_fft_rproj_errp = average_shells(pos_g_spher[:,0], gpot_g_fft + err4gadget, 100)"
   ]
  },
  {
   "cell_type": "code",
   "execution_count": null,
   "metadata": {
    "collapsed": true
   },
   "outputs": [],
   "source": [
    "gpot_g_fft_rproj_errm = average_shells(pos_g_spher[:,0], gpot_g_fft - err4gadget, 100)"
   ]
  },
  {
   "cell_type": "code",
   "execution_count": null,
   "metadata": {
    "collapsed": true
   },
   "outputs": [],
   "source": [
    "np.savetxt('data/gadget/poisson/g_z0p000_gpot_fft_rproj_errp_shellpos_part2h8', gpot_g_fft_rproj_errp[0])\n",
    "np.savetxt('data/gadget/poisson/g_z0p000_gpot_fft_rproj_errp_meanval_part2h8', gpot_g_fft_rproj_errp[1])\n",
    "np.savetxt('data/gadget/poisson/g_z0p000_gpot_fft_rproj_errm_shellpos_part2h8', gpot_g_fft_rproj_errm[0])\n",
    "np.savetxt('data/gadget/poisson/g_z0p000_gpot_fft_rproj_errm_meanval_part2h8', gpot_g_fft_rproj_errm[1])"
   ]
  },
  {
   "cell_type": "code",
   "execution_count": null,
   "metadata": {
    "collapsed": true
   },
   "outputs": [],
   "source": [
    "gpot_g_sim = np.loadtxt('data/gadget/g_z0p000_gpot_sim')"
   ]
  },
  {
   "cell_type": "code",
   "execution_count": null,
   "metadata": {
    "collapsed": true
   },
   "outputs": [],
   "source": [
    "pos_g_spher = np.loadtxt('data/gadget/g_z0p000_pos_spher_sim')\n",
    "gpot_g_fft = np.loadtxt('data/gadget/g_z0p000_gpot_fft_part2h8')"
   ]
  },
  {
   "cell_type": "code",
   "execution_count": null,
   "metadata": {
    "collapsed": true
   },
   "outputs": [],
   "source": [
    "gpot_g_fft_rproj_erru = average_shells(pos_g_spher[:,0], gpot_g_fft + err4gagdet, 100)\n",
    "gpot_g_fft_rproj_errd = average_shells(pos_g_spher[:,0], gpot_g_fft - err4gagdet, 100)"
   ]
  },
  {
   "cell_type": "code",
   "execution_count": null,
   "metadata": {
    "collapsed": true
   },
   "outputs": [],
   "source": [
    "np.savetxt('data/gadget/g_z0p000_gpot_fft_rproj_meanvalerru_part2h8', gpot_g_fft_rproj_erru[1])\n",
    "np.savetxt('data/gadget/g_z0p000_gpot_fft_rproj_meanvalerrd_part2h8', gpot_g_fft_rproj_errd[1])"
   ]
  },
  {
   "cell_type": "markdown",
   "metadata": {},
   "source": [
    "## Plots"
   ]
  },
  {
   "cell_type": "code",
   "execution_count": null,
   "metadata": {
    "collapsed": true
   },
   "outputs": [],
   "source": [
    "gpot_g_fft_hpmap_ps = np.loadtxt('data/gadget/poisson/gpot_g_part_2h8_hpmap_ps')\n",
    "gpot_g_hpmap_ps = np.loadtxt('data/gadget/simulation/gpot_g_hpmap_ps')\n",
    "gpot_l_fft_hpmap_ps = np.loadtxt('data/lpicola/poisson/gpot_l_part_2h8_hpmap_ps')\n",
    "gpot_l_hpmap_ps = np.loadtxt('data/lpicola/simulation/gpot_l_hpmap_ps')"
   ]
  },
  {
   "cell_type": "code",
   "execution_count": null,
   "metadata": {},
   "outputs": [],
   "source": [
    "# Plots of power spectra\n",
    "\n",
    "mpl.rcParams['text.usetex'] = True\n",
    "mpl.rcParams['font.family'] = 'serif'\n",
    "mpl.rcParams['font.sans-serif'] = ['Tahoma']\n",
    "mpl.rcParams['figure.figsize']   = (18,5)\n",
    "mpl.rcParams['figure.dpi']       = 200\n",
    "mpl.rcParams['figure.titlesize'] = 20\n",
    "mpl.rcParams['axes.titlesize']   = 15\n",
    "mpl.rcParams['axes.labelsize']   = 15\n",
    "mpl.rcParams['axes.titlepad']    = 20\n",
    "mpl.rcParams['lines.linewidth']  = 0.5\n",
    "mpl.rcParams['lines.markersize'] = 0.5\n",
    "\n",
    "fig2 = plt.figure(figsize=(10,8))\n",
    "\n",
    "gs = gridspec.GridSpec(3, 1, hspace=0, wspace=0.3)\n",
    "\n",
    "g_fft = gpot_g_fft_hpmap_ps\n",
    "g_sim = gpot_g_hpmap_ps\n",
    "l_fft = gpot_l_fft_hpmap_ps\n",
    "l_sim = gpot_l_hpmap_ps\n",
    "x = np.arange(192)\n",
    "y = np.ones(192)\n",
    "\n",
    "# axes for spectrum of gadget\n",
    "axa = plt.subplot(gs[:2,0])\n",
    "line1, = axa.semilogy(g_fft,'r--')\n",
    "line2, = axa.semilogy(g_sim,'b--')\n",
    "# axes for spectrum lpicola\n",
    "line3, = axa.semilogy(l_fft, 'g--')\n",
    "line4, = axa.semilogy(l_sim, 'k--')\n",
    "\n",
    "# axes for ratio of spectra\n",
    "axb  = plt.subplot(gs[2,0])\n",
    "line5, = axb.plot(g_fft / g_sim, 'r-')\n",
    "line6, = axb.plot(l_fft / l_sim, 'g-')\n",
    "\n",
    "# borders in ratio of spectra\n",
    "axb.plot(x, y, 'k-', linewidth=.5, alpha=1)\n",
    "axb.plot(x, y*1.1, 'k-.', linewidth=.5, alpha=0.7)\n",
    "axb.plot(x, y*0.9, 'k-.', linewidth=.5, alpha=0.7)\n",
    "\n",
    "axa.legend([line1, line2, line3, line4, line5, line6], \n",
    "           [\"GADGET-2 poisson\", \"GADGET-2 simulation\", \n",
    "            \"L-PICOLA poisson\", \"L-PICOLA simulation\", \n",
    "            \"GADGET-2 ratio\", \"L-PICOLA ratio\"], frameon=0, fontsize='x-large')\n",
    "\n",
    "for ax in fig2.axes[:]:\n",
    "    ax.set_xlim((0,191))\n",
    "    ax.tick_params(direction='in', width=0.5, right=1, top=1)\n",
    "    for axis in ['top','bottom','left','right']:\n",
    "          ax.spines[axis].set_linewidth(0.5)\n",
    "\n",
    "axa.set_xticklabels([])\n",
    "axb.set_ylim((0.8,1.2))\n",
    "\n",
    "for ax in fig2.axes[1::2]:\n",
    "    for tick in ax.yaxis.get_major_ticks():\n",
    "        tick.label1On = False\n",
    "        tick.label2On = True\n",
    "\n",
    "axa.set_ylabel(r'$C_l$')\n",
    "axb.set_xlabel(r'$l$', labelpad=10)\n",
    "axb.set_ylabel(r'$C_l^P\\;/\\;C_l^S$', labelpad=8)"
   ]
  },
  {
   "cell_type": "code",
   "execution_count": null,
   "metadata": {
    "collapsed": true
   },
   "outputs": [],
   "source": [
    "g_pos = np.loadtxt('data/gadget/simulation/g_z0p000_gpot_sim_rproj_shellpos')\n",
    "g_sim = np.loadtxt('data/gadget/simulation/g_z0p000_gpot_sim_rproj_meanval')\n",
    "g_fft = np.loadtxt('data/gadget/poisson/g_z0p000_gpot_fft_rproj_meanval_part2h8')\n",
    "g_fft_errp = np.loadtxt('data/gadget/poisson/g_z0p000_gpot_fft_rproj_errp_meanval_part2h8')\n",
    "g_fft_errm = np.loadtxt('data/gadget/poisson/g_z0p000_gpot_fft_rproj_errm_meanval_part2h8')\n",
    "l_pos = np.loadtxt('data/lpicola/simulation/l_z0p000_gpot_sim_rproj_shellpos')\n",
    "l_sim = np.loadtxt('data/lpicola/simulation/l_z0p000_gpot_sim_rproj_meanval')\n",
    "l_fft = np.loadtxt('data/lpicola/poisson/l_z0p000_gpot_fft_rproj_meanval_part2h8')\n",
    "l_fft_errp = np.loadtxt('data/lpicola/poisson/l_z0p000_gpot_fft_rproj_errp_meanval_part2h8')\n",
    "l_fft_errm = np.loadtxt('data/lpicola/poisson/l_z0p000_gpot_fft_rproj_errm_meanval_part2h8')"
   ]
  },
  {
   "cell_type": "code",
   "execution_count": null,
   "metadata": {
    "collapsed": true
   },
   "outputs": [],
   "source": [
    "g_pos = np.loadtxt('data/gadget/simulation/g_z0p000_gpot_sim_rproj_shellpos')"
   ]
  },
  {
   "cell_type": "code",
   "execution_count": null,
   "metadata": {
    "collapsed": true
   },
   "outputs": [],
   "source": [
    "g_sim /= xoHo**2\n",
    "l_sim /= xoHo**2"
   ]
  },
  {
   "cell_type": "code",
   "execution_count": null,
   "metadata": {},
   "outputs": [],
   "source": [
    "# Plots particle potential averaged over shells\n",
    "\n",
    "mpl.rcParams['text.usetex'] = True\n",
    "mpl.rcParams['font.family'] = 'serif'\n",
    "mpl.rcParams['font.sans-serif'] = ['Tahoma']\n",
    "mpl.rcParams['figure.figsize']   = (18,5)\n",
    "mpl.rcParams['figure.dpi']       = 200\n",
    "mpl.rcParams['figure.titlesize'] = 20\n",
    "mpl.rcParams['axes.titlesize']   = 15\n",
    "mpl.rcParams['axes.labelsize']   = 15\n",
    "mpl.rcParams['axes.titlepad']    = 20\n",
    "mpl.rcParams['lines.linewidth']  = 0.5\n",
    "mpl.rcParams['lines.markersize'] = 0.5\n",
    "\n",
    "fig2 = plt.figure(figsize=(10,8))\n",
    "\n",
    "gs = gridspec.GridSpec(3, 1, hspace=0, wspace=0.3)\n",
    "\n",
    "xmax = max(max(g_pos), max(l_pos))\n",
    "xmin = min(min(g_pos), min(l_pos))\n",
    "N = len(l_pos)\n",
    "\n",
    "# axes for gadget\n",
    "axa = plt.subplot(gs[:2,0])\n",
    "line1, = axa.plot(g_pos, g_fft,'r--')\n",
    "line2, = axa.plot(g_pos, g_sim,'b--')\n",
    "# axes for lpicola\n",
    "line3, = axa.plot(l_pos, l_fft, 'g--')\n",
    "line4, = axa.plot(l_pos, l_sim, 'k--')\n",
    "\n",
    "# axes for ratio\n",
    "axb  = plt.subplot(gs[2,0])\n",
    "line5, = axb.plot(g_pos, (g_fft-200) / (g_sim-200), 'r-')\n",
    "line6, = axb.plot(l_pos, (l_fft-200) / (l_sim-200), 'g-')\n",
    "g1 = ((g_fft_errp-200)/(g_sim-200))*0.99\n",
    "g2 = ((g_fft_errm-200)/(g_sim-200))*1.01\n",
    "axb.fill_between(g_pos, g1, g2, where=g1<g2, facecolor='red', alpha=0.2)\n",
    "l1 = ((l_fft_errp-200)/(l_sim-200))*0.99\n",
    "l2 = ((l_fft_errm-200)/(l_sim-200))*1.01\n",
    "axb.fill_between(l_pos, l1, l2, where=l1<l2, facecolor='green', alpha=0.2)\n",
    "\n",
    "# borders in ratio of spectra\n",
    "axb.plot(l_pos, np.ones(N), 'k-', linewidth=.5, alpha=1)\n",
    "axb.plot(l_pos, np.ones(N)*1.1, 'k-.', linewidth=.5, alpha=0.7)\n",
    "axb.plot(l_pos, np.ones(N)*0.9, 'k-.', linewidth=.5, alpha=0.7)\n",
    "\n",
    "axa.legend([line1, line2, line3, line4, line5, line6], \n",
    "           [\"GADGET-2 poisson\", \"GADGET-2 simulation\", \n",
    "            \"L-PICOLA poisson\", \"L-PICOLA simulation\", \n",
    "            \"GADGET-2 ratio\", \"L-PICOLA ratio\"], frameon=0, fontsize='x-large', loc=4)\n",
    "\n",
    "for ax in fig2.axes[:]:\n",
    "    ax.set_xlim((xmin, xmax))\n",
    "    ax.tick_params(direction='in', width=0.5, right=1, top=1)\n",
    "    for axis in ['top','bottom','left','right']:\n",
    "          ax.spines[axis].set_linewidth(0.5)\n",
    "\n",
    "axa.set_xticklabels([])\n",
    "axb.set_ylim((0.8,1.2))\n",
    "\n",
    "for ax in fig2.axes[1::2]:\n",
    "    for tick in ax.yaxis.get_major_ticks():\n",
    "        tick.label1On = False\n",
    "        tick.label2On = True\n",
    "\n",
    "axa.set_ylabel(r'${\\langle\\tilde{\\phi}\\rangle}_{shell}\\;[code\\ units]$')\n",
    "axb.set_xlabel(r'$r\\;[Mpc\\ a\\ h^{-1}]$', labelpad=10)\n",
    "axb.set_ylabel(r'${\\langle\\tilde{\\phi}^P\\rangle}_{shell}\\;/\\;{\\langle\\tilde{\\phi}^S\\rangle}_{shell}$', labelpad=8)"
   ]
  },
  {
   "cell_type": "code",
   "execution_count": null,
   "metadata": {
    "collapsed": true
   },
   "outputs": [],
   "source": [
    "gpot_g_sim = np.loadtxt('data/gadget/simulation/g_z0p000_gpot_sim')\n",
    "gpot_l_sim = np.loadtxt('data/lpicola/simulation/l_z0p000_gpot_sim')\n",
    "gpot_g_fft = np.loadtxt('data/gadget/poisson/g_z0p000_gpot_fft_part2h8')\n",
    "gpot_l_fft = np.loadtxt('data/lpicola/poisson/l_z0p000_gpot_fft_part2h8')"
   ]
  },
  {
   "cell_type": "code",
   "execution_count": null,
   "metadata": {
    "collapsed": true
   },
   "outputs": [],
   "source": [
    "gpot_l_err = np.loadtxt('data/lpicola/err4lpicola_100mesh')\n",
    "gpot_g_err = np.loadtxt('data/gadget/err4gadget_100mesh')"
   ]
  },
  {
   "cell_type": "code",
   "execution_count": null,
   "metadata": {
    "collapsed": true
   },
   "outputs": [],
   "source": [
    "gpot_g_sim /= xoHo**2\n",
    "gpot_l_sim /= xoHo**2"
   ]
  },
  {
   "cell_type": "code",
   "execution_count": null,
   "metadata": {},
   "outputs": [],
   "source": [
    "# Plots particle potential histogram\n",
    "\n",
    "mpl.rcParams['text.usetex'] = True\n",
    "mpl.rcParams['font.family'] = 'serif'\n",
    "mpl.rcParams['font.sans-serif'] = ['Tahoma']\n",
    "mpl.rcParams['figure.figsize']   = (18,5)\n",
    "mpl.rcParams['figure.dpi']       = 200\n",
    "mpl.rcParams['figure.titlesize'] = 20\n",
    "mpl.rcParams['axes.titlesize']   = 15\n",
    "mpl.rcParams['axes.labelsize']   = 15\n",
    "mpl.rcParams['axes.titlepad']    = 20\n",
    "mpl.rcParams['lines.linewidth']  = 0.3\n",
    "mpl.rcParams['lines.markersize'] = 2\n",
    "\n",
    "fig2 = plt.figure(figsize=(10,8))\n",
    "\n",
    "gs = gridspec.GridSpec(3, 1, hspace=0, wspace=0.3)\n",
    "\n",
    "# axes for gadget\n",
    "axa = plt.subplot(gs[:2,0])\n",
    "bins = np.linspace(-3500, 350, 200)\n",
    "ngp, binsgp, patchgp = axa.hist(gpot_g_fft, bins=bins, normed=1, log=0, histtype = 'step', \n",
    "                                color='r', linestyle='--', linewidth=0.8, label=\"GADGET-2 poisson\")\n",
    "ngs, binsgs, patchgs = axa.hist(gpot_g_sim, bins=bins, normed=1, log=0, histtype = 'step',\n",
    "                                color='b', linestyle='--', linewidth=0.8, label=\"GADGET-2 simulation\")\n",
    "# axes for lpicola\n",
    "nlp, binslp, patchlp = axa.hist(gpot_l_fft, bins=bins, normed=1, log=0, histtype = 'step', \n",
    "                                color='g', linestyle='--', linewidth=0.8, label=\"L-PICOLA poisson\")\n",
    "nls, binsls, patchls = axa.hist(gpot_l_sim, bins=bins, normed=1, log=0, histtype = 'step', \n",
    "                                color='k', linestyle='--', linewidth=0.8, label=\"L-PICOLA simulation\")\n",
    "\n",
    "array = np.vstack((gpot_g_fft, gpot_g_sim, gpot_l_fft, gpot_l_sim))\n",
    "mean = np.mean(array, axis=1)\n",
    "std = np.std(array, axis=1)/np.sqrt()\n",
    "errp = mean + std\n",
    "errm = mean - std\n",
    "ymax = np.array([0.00225, 0.00225, 0.0011, 0.0011])\n",
    "axa.vlines(mean, 0, ymax, ['r','b','g','k'])\n",
    "#axa.hlines(ymax*0.25, errm, errp, ['r','b','g','k'])\n",
    "axa.axvspan(errm[0], errp[0], 0, 0.25, alpha=0.2, color='r')\n",
    "axa.axvspan(errm[1], errp[1], 0, 0.20, alpha=0.2, color='b')\n",
    "axa.axvspan(errm[2], errp[2], 0, 0.10, alpha=0.2, color='g')\n",
    "axa.axvspan(errm[3], errp[3], 0, 0.05, alpha=0.2, color='k')\n",
    "\n",
    "axa.legend(frameon=0, fontsize='x-large', loc=2)\n",
    "\n",
    "# axes for ratio\n",
    "axb  = plt.subplot(gs[2,0])\n",
    "x = (bins[:-1] + bins[1:])*0.5\n",
    "axb.stem(x, ngp - ngs, linefmt='k-.', markerfmt='ro', basefmt='k-', label=\"GADGET-2 difference\")\n",
    "axb.stem(x, nlp - nls, linefmt='k-.', markerfmt='go', basefmt='k-', label=\"L-PICOLA difference\")\n",
    "axb.legend(frameon=0, fontsize='x-large', loc=2)\n",
    "#g1 = ((g_fft_errp-200)/(g_sim-200))*0.99\n",
    "#g2 = ((g_fft_errm-200)/(g_sim-200))*1.01\n",
    "#axb.fill_between(g_pos, g1, g2, where=g1<g2, facecolor='red', alpha=0.2)\n",
    "#l1 = ((l_fft_errp-200)/(l_sim-200))*0.99\n",
    "#l2 = ((l_fft_errm-200)/(l_sim-200))*1.01\n",
    "#axb.fill_between(l_pos, l1, l2, where=l1<l2, facecolor='green', alpha=0.2)\n",
    "\n",
    "# borders in ratio of spectra\n",
    "#axb.plot(x, np.zeros(len(x))*0.0005, 'k-.', linewidth=.5, alpha=0.7)\n",
    "#axb.plot(x, np.zeros(len(x))*0.0005, 'k-.', linewidth=.5, alpha=0.7)\n",
    "\n",
    "\n",
    "for ax in fig2.axes[:]:\n",
    "    ax.set_xlim((bins[0], bins[-1]))\n",
    "    ax.tick_params(direction='in', width=0.5, right=1, top=1)\n",
    "    for axis in ['top','bottom','left','right']:\n",
    "          ax.spines[axis].set_linewidth(0.5)\n",
    "\n",
    "axa.set_xticklabels([])\n",
    "axa.ticklabel_format(style='sci', axis='y', scilimits=(0,0), useMathText=1)\n",
    "x = [-3500, -3000, -2500, -2000, -1500, -1000, -500, 0, 350]\n",
    "labels = [r'$-3500$', r'$-3000$', r'$-2500$', r'$-2000$', r'$-1500$', r'$-1000$', r'$-500$', r'$0$', r'$350$']\n",
    "axb.set_xticks(x)\n",
    "axb.set_xticklabels(labels)\n",
    "labels = [r'$-0.10$', r'$-0.10$', r'$-0.05$', r'$0.00$', r'$+0.05$', r'$+0.10$']\n",
    "#axb.set_yticklabels(labels)\n",
    "\n",
    "for ax in fig2.axes[1::2]:\n",
    "    for tick in ax.yaxis.get_major_ticks():\n",
    "        tick.label1On = False\n",
    "        tick.label2On = True\n",
    "\n",
    "axa.set_ylabel('PDF'r'$\\,(\\tilde{\\phi})$', labelpad=10)\n",
    "axb.set_xlabel(r'$\\tilde{\\phi}\\;[code\\ units]$', labelpad=10)\n",
    "axb.set_ylabel('PDF'r'$\\,(\\tilde{\\phi}^P)\\,-\\,$''PDF'r'$\\,(\\tilde{\\phi}^S)$', labelpad=25)"
   ]
  },
  {
   "cell_type": "code",
   "execution_count": null,
   "metadata": {
    "collapsed": true
   },
   "outputs": [],
   "source": [
    "f, ((ax1, ax2), (ax3, ax4), (ax5, ax6)) = plt.subplots(3, 2)\n",
    "f.suptitle('L-PICOLA        vs        GADGET-2')\n",
    "f.set_size_inches(h=20, w=20)\n",
    "\n",
    "size=1000\n",
    "\n",
    "ax1.semilogy(l_z0p000_potmap_ps, 'k')\n",
    "ax1.set_title('Power spectrum of the gravitational potential')\n",
    "ax1.set(xlabel=r'$l$', ylabel=r'$C_l$')\n",
    "ax1.get_xaxis().set_tick_params(direction='out', width=1)\n",
    "ax1.get_yaxis().set_tick_params(direction='out', width=1)\n",
    "#hp.mollview(l_z0p000_potmap, xsize=size, title='Gravitational potential field')\n",
    "plt.axes([.2, .75, .325, .125], facecolor='w')\n",
    "img1 = mpimg.imread(cwd+\"/l_potmap.png\")\n",
    "plt.imshow(img1)\n",
    "plt.xticks([])\n",
    "plt.yticks([])\n",
    "\n",
    "ax2.semilogy(g_z0p000_potmap_ps, 'k')\n",
    "ax2.set_title('Power spectrum of the gravitational potential field')\n",
    "ax2.set(xlabel=r'$l$', ylabel=r'$C_l$')\n",
    "ax2.get_xaxis().set_tick_params(direction='out', width=1)\n",
    "ax2.get_yaxis().set_tick_params(direction='out', width=1)\n",
    "#hp.mollview(g_z0p000_potmap, xsize=size, title='Gravitational potential field')\n",
    "plt.axes([.625, .75, .325, .125], facecolor='w')\n",
    "img2 = mpimg.imread(cwd+\"/g_potmap.png\")\n",
    "plt.imshow(img2)\n",
    "plt.xticks([])\n",
    "plt.yticks([])\n",
    "\n",
    "ax3.semilogy(l_z0p000_densmap_ps, 'k')\n",
    "ax3.set_title('Power spectrum of the density field')\n",
    "ax3.set(xlabel=r'$l$', ylabel=r'$C_l$')\n",
    "ax3.get_xaxis().set_tick_params(direction='out', width=1)\n",
    "ax3.get_yaxis().set_tick_params(direction='out', width=1)\n",
    "#hp.mollview(l_z0p000_densmap, xsize=size, title='Gravitational potential field')\n",
    "plt.axes([.2, .475, .325, .125], facecolor='w')\n",
    "img3 = mpimg.imread(cwd+\"/l_densmap.png\")\n",
    "plt.imshow(img3)\n",
    "plt.xticks([])\n",
    "plt.yticks([])\n",
    "\n",
    "ax4.semilogy(g_z0p000_densmap_ps, 'k')\n",
    "ax4.set_title('Power spectrum of the density field')\n",
    "ax4.set(xlabel=r'$l$', ylabel=r'$C_l$')\n",
    "ax4.get_xaxis().set_tick_params(direction='out', width=1)\n",
    "ax4.get_yaxis().set_tick_params(direction='out', width=1)\n",
    "#hp.mollview(g_z0p000_densmap, xsize=size, title='Gravitational potential field')\n",
    "plt.axes([.625, .475, .325, .125], facecolor='w')\n",
    "img4 = mpimg.imread(cwd+\"/g_densmap.png\")\n",
    "plt.imshow(img4)\n",
    "plt.xticks([])\n",
    "plt.yticks([])\n",
    "\n",
    "ax5.plot(l_z0p000_gpot_rproj[0], l_z0p000_gpot_rproj[1], 'k')\n",
    "ax5.set_title('Average distribution over the line of sight')\n",
    "ax5.set(xlabel=r'$r\\;[Mpc\\;h^-1]$', ylabel=r'$km^2\\;a\\;s^-2$')\n",
    "ax5.get_xaxis().set_tick_params(direction='out', width=1)\n",
    "ax5.get_yaxis().set_tick_params(direction='out', width=1)\n",
    "\n",
    "ax6.plot(g_z0p000_gpot_rproj[0], g_z0p000_gpot_rproj[1], 'k')\n",
    "ax6.set_title('Average distribution over the line of sight')\n",
    "ax6.set(xlabel=r'$r\\;[Mpc\\;h^-1]$', ylabel=r'$km^2\\;a\\;s^-2$')\n",
    "ax6.get_xaxis().set_tick_params(direction='out', width=1)\n",
    "ax6.get_yaxis().set_tick_params(direction='out', width=1)"
   ]
  },
  {
   "cell_type": "code",
   "execution_count": null,
   "metadata": {
    "collapsed": true,
    "scrolled": true
   },
   "outputs": [],
   "source": [
    "mpl.rcParams['figure.titlesize'] = 20\n",
    "mpl.rcParams['axes.titlesize']   = 15\n",
    "mpl.rcParams['axes.labelsize']   = 15\n",
    "mpl.rcParams['axes.titlepad']    = 20\n",
    "mpl.rcParams['lines.linewidth']  = 1\n",
    "mpl.rcParams['lines.markersize'] = 2\n",
    "\n",
    "fig  = plt.figure(figsize=(20,20))\n",
    "fig.suptitle('L-PICOLA        vs.        GADGET-2')\n",
    "gs0  = gridspec.GridSpec(3, 1, hspace=0)\n",
    "gs00 = gridspec.GridSpecFromSubplotSpec(1, 2, subplot_spec=gs0[0], wspace=0)\n",
    "gs01 = gridspec.GridSpecFromSubplotSpec(1, 2, subplot_spec=gs0[1], wspace=0)\n",
    "gs02 = gridspec.GridSpecFromSubplotSpec(3, 3, subplot_spec=gs0[2], hspace=0)\n",
    "\n",
    "img = []\n",
    "img.append(mpimg.imread(cwd+\"/l_potmap.png\"))\n",
    "img.append(mpimg.imread(cwd+\"/g_potmap.png\"))\n",
    "img.append(mpimg.imread(cwd+\"/l_densmap.png\"))\n",
    "img.append(mpimg.imread(cwd+\"/g_densmap.png\"))\n",
    "\n",
    "ax000 = plt.subplot(gs00[0])\n",
    "ax001 = plt.subplot(gs00[1])\n",
    "ax010 = plt.subplot(gs01[0])\n",
    "ax011 = plt.subplot(gs01[1])\n",
    "\n",
    "for i, ax in enumerate(fig.axes[:4]):\n",
    "    ax.set_xticks([])\n",
    "    ax.set_yticks([])\n",
    "    ax.set_frame_on(False)\n",
    "    ax.imshow(img[i], aspect='auto')\n",
    "    \n",
    "# axes for potential spectrum\n",
    "ax020a = plt.subplot(gs02[:2,0])\n",
    "linel, = ax020a.semilogy(l_z0p000_potmap_ps,'r-')\n",
    "lineg, = ax020a.semilogy(g_z0p000_potmap_ps,'b-')\n",
    "ax020a.legend([linel, lineg], [\"L-PICOLA\", \"GADGET-2\"])\n",
    "\n",
    "# axes for ratio of potential spectrum\n",
    "ax020b  = plt.subplot(gs02[2,0])\n",
    "linelg, = ax020b.plot(l_z0p000_potmap_ps / g_z0p000_potmap_ps, 'g-')\n",
    "ax020b.legend([linelg], [\"L-PICOLA vs. GADGET-2\"])\n",
    "\n",
    "# axes for density spectrum\n",
    "ax021a = plt.subplot(gs02[:2,1])\n",
    "ax021a.semilogy(l_z0p000_densmap_ps, 'r-')\n",
    "ax021a.semilogy(g_z0p000_densmap_ps, 'b-')\n",
    "ax021a.legend([linel, lineg], [\"L-PICOLA\", \"GADGET-2\"])\n",
    "\n",
    "# axes for ration of density spectrum\n",
    "ax021b = plt.subplot(gs02[2,1])\n",
    "ax021b.plot(l_z0p000_densmap_ps / g_z0p000_densmap_ps, 'g-')\n",
    "ax021b.legend([linelg], [\"L-PICOLA vs. GADGET-2\"])\n",
    "\n",
    "# axes for radial distribution\n",
    "ax022a = plt.subplot(gs02[:2,2])\n",
    "ax022a.plot(l_z0p000_gpot_rproj[0], l_z0p000_gpot_rproj[1], 'ro-')\n",
    "ax022a.plot(g_z0p000_gpot_rproj[0], g_z0p000_gpot_rproj[1], 'bo-')\n",
    "ax022a.legend([linel, lineg], [\"L-PICOLA\", \"GADGET-2\"])\n",
    "\n",
    "# axes for ration of radial distribution\n",
    "ax022b = plt.subplot(gs02[2,2])\n",
    "ax022b.plot(l_z0p000_gpot_rproj[0], l_z0p000_gpot_rproj[1] / g_z0p000_gpot_rproj[1], 'go-')\n",
    "ax022b.legend([linelg], [\"L-PICOLA vs. GADGET-2\"])\n",
    "\n",
    "for ax in fig.axes[3:]:\n",
    "    ax.tick_params(direction='in', width=1, right=1, top=1)\n",
    "\n",
    "ax020a.set_xticklabels([])\n",
    "ax021a.set_xticklabels([])\n",
    "ax022a.set_xticklabels([])\n",
    "\n",
    "for ax in fig.axes[3::2]:\n",
    "    for tick in ax.yaxis.get_major_ticks():\n",
    "        tick.label1On = False\n",
    "        tick.label2On = True\n",
    "\n",
    "ax020a.set_ylabel(r'$log(C_l)$')\n",
    "ax021a.set_ylabel(r'$log(C_l)$')\n",
    "ax022a.set_ylabel(r'$\\phi\\;[km^2\\;a\\;s^{-2}]$')\n",
    "\n",
    "ax020b.set_xlabel(r'$l$')\n",
    "ax021b.set_xlabel(r'$l$')\n",
    "ax022b.set_xlabel(r'$r\\;[Mpc\\;h^{-1}]$')\n",
    "ax020b.set_ylabel(r'$C_l^P/\\;C_l^G$')\n",
    "ax021b.set_ylabel(r'$C_l^P/\\;C_l^G$')\n",
    "ax022b.set_ylabel(r'$\\phi^P/\\phi^G$')\n",
    "\n",
    "ax020a.set_title('Power spectrum of the gravitational potential')\n",
    "ax021a.set_title('Power spectrum of the density field')\n",
    "ax022a.set_title('Average distribution over the line of sight')\n",
    "\n",
    "gs0.tight_layout(fig, rect=[0,0,0.97,0.97], w_pad=0, h_pad=2.5)"
   ]
  },
  {
   "cell_type": "code",
   "execution_count": null,
   "metadata": {
    "collapsed": true
   },
   "outputs": [],
   "source": [
    "mpl.rcParams['figure.figsize']   = (20,12)\n",
    "mpl.rcParams['figure.dpi']       = 200\n",
    "mpl.rcParams['figure.titlesize'] = 20\n",
    "mpl.rcParams['axes.titlesize']   = 15\n",
    "mpl.rcParams['axes.labelsize']   = 15\n",
    "mpl.rcParams['axes.titlepad']    = 20\n",
    "mpl.rcParams['lines.linewidth']  = 1\n",
    "mpl.rcParams['lines.markersize'] = 2\n",
    "\n",
    "\n",
    "fig1, ((ax1, ax2), (ax3, ax4)) = plt.subplots(2, 2)\n",
    "fig1.subplots_adjust(hspace=0, wspace=0)\n",
    "\n",
    "img = []\n",
    "img.append(mpimg.imread(cwd+\"/l_potmap.png\"))\n",
    "img.append(mpimg.imread(cwd+\"/g_potmap.png\"))\n",
    "img.append(mpimg.imread(cwd+\"/l_densmap.png\"))\n",
    "img.append(mpimg.imread(cwd+\"/g_densmap.png\"))\n",
    "\n",
    "for i, ax in enumerate(fig1.axes[:]):\n",
    "    ax.set_xticks([])\n",
    "    ax.set_yticks([])\n",
    "    ax.set_frame_on(False)\n",
    "    ax.imshow(img[i], aspect='auto')"
   ]
  },
  {
   "cell_type": "code",
   "execution_count": null,
   "metadata": {
    "collapsed": true
   },
   "outputs": [],
   "source": [
    "mpl.rcParams['figure.figsize']   = (18,5)\n",
    "mpl.rcParams['figure.dpi']       = 200\n",
    "mpl.rcParams['figure.titlesize'] = 20\n",
    "mpl.rcParams['axes.titlesize']   = 15\n",
    "mpl.rcParams['axes.labelsize']   = 15\n",
    "mpl.rcParams['axes.titlepad']    = 20\n",
    "mpl.rcParams['lines.linewidth']  = 1\n",
    "mpl.rcParams['lines.markersize'] = 2\n",
    "\n",
    "fig2 = plt.figure()\n",
    "\n",
    "gs = gridspec.GridSpec(3, 3, hspace=0, wspace=0.3)\n",
    "\n",
    "l_z0p000_potmap_ps = gpot_l_hpmap_ps\n",
    "g_z0p000_potmap_ps = gpot_g_hpmap_ps\n",
    "l_z0p000_densmap_ps = exgpot_g_hpmap_ps\n",
    "g_z0p000_densmap_ps = exgpot_l_hpmap_ps\n",
    "\n",
    "# axes for potential spectrum\n",
    "ax0a = plt.subplot(gs[:2,0])\n",
    "linel, = ax0a.semilogy(l_z0p000_potmap_ps,'r-')\n",
    "lineg, = ax0a.semilogy(g_z0p000_potmap_ps,'b-')\n",
    "ax0a.legend([linel, lineg], [\"L-PICOLA\", \"GADGET-2\"])\n",
    "\n",
    "# axes for ratio of potential spectrum\n",
    "ax0b  = plt.subplot(gs[2,0])\n",
    "linelg, = ax0b.plot(l_z0p000_potmap_ps / g_z0p000_potmap_ps, 'g-')\n",
    "ax0b.legend([linelg], [\"L-PICOLA vs. GADGET-2\"])\n",
    "\n",
    "# axes for density spectrum\n",
    "ax1a = plt.subplot(gs[:2,1])\n",
    "ax1a.semilogy(l_z0p000_densmap_ps, 'r-')\n",
    "ax1a.semilogy(g_z0p000_densmap_ps, 'b-')\n",
    "ax1a.legend([linel, lineg], [\"L-PICOLA\", \"GADGET-2\"])\n",
    "\n",
    "# axes for ration of density spectrum\n",
    "ax1b = plt.subplot(gs[2,1])\n",
    "ax1b.plot(l_z0p000_densmap_ps / g_z0p000_densmap_ps, 'g-')\n",
    "ax1b.legend([linelg], [\"L-PICOLA vs. GADGET-2\"])\n",
    "\n",
    "# axes for radial distribution\n",
    "ax2a = plt.subplot(gs[:2,2])\n",
    "ax2a.plot(l_z0p000_gpot_rproj[0], l_z0p000_gpot_rproj[1], 'ro-')\n",
    "ax2a.plot(g_z0p000_gpot_rproj[0], g_z0p000_gpot_rproj[1], 'bo-')\n",
    "ax2a.legend([linel, lineg], [\"L-PICOLA\", \"GADGET-2\"])\n",
    "\n",
    "# axes for ration of radial distribution\n",
    "ax2b = plt.subplot(gs[2,2])\n",
    "ax2b.plot(l_z0p000_gpot_rproj[0], l_z0p000_gpot_rproj[1] / g_z0p000_gpot_rproj[1], 'go-')\n",
    "ax2b.legend([linelg], [\"L-PICOLA vs. GADGET-2\"])\n",
    "\n",
    "for ax in fig2.axes[:]:\n",
    "    ax.tick_params(direction='in', width=1, right=1, top=1)\n",
    "\n",
    "ax0a.set_xticklabels([])\n",
    "ax1a.set_xticklabels([])\n",
    "ax2a.set_xticklabels([])\n",
    "\n",
    "for ax in fig2.axes[1::2]:\n",
    "    for tick in ax.yaxis.get_major_ticks():\n",
    "        tick.label1On = False\n",
    "        tick.label2On = True\n",
    "\n",
    "ax0a.set_ylabel(r'$log(C_l)$')\n",
    "ax1a.set_ylabel(r'$log(C_l)$')\n",
    "ax2a.set_ylabel(r'$\\phi\\;[km^2\\;a\\;s^{-2}]$')\n",
    "\n",
    "ax0b.set_xlabel(r'$l$')\n",
    "ax1b.set_xlabel(r'$l$')\n",
    "ax2b.set_xlabel(r'$r\\;[Mpc\\;h^{-1}]$')\n",
    "ax0b.set_ylabel(r'$C_l^P/\\;C_l^G$')\n",
    "ax1b.set_ylabel(r'$C_l^P/\\;C_l^G$')\n",
    "ax2b.set_ylabel(r'$\\phi^P/\\phi^G$')\n",
    "\n",
    "ax0a.set_title('Power spectrum of the gravitational potential')\n",
    "ax1a.set_title('Power spectrum of the density field')\n",
    "ax2a.set_title('Average distribution over the line of sight')"
   ]
  },
  {
   "cell_type": "markdown",
   "metadata": {},
   "source": [
    "## Errors"
   ]
  },
  {
   "cell_type": "code",
   "execution_count": null,
   "metadata": {
    "collapsed": true
   },
   "outputs": [],
   "source": [
    "Nmesh = 128"
   ]
  },
  {
   "cell_type": "code",
   "execution_count": null,
   "metadata": {
    "collapsed": true
   },
   "outputs": [],
   "source": [
    "X = np.arange(Nmesh)\n",
    "Y = np.arange(Nmesh)\n",
    "Z = np.arange(Nmesh)\n",
    "x, y, z = np.meshgrid(X, Y, Z, indexing='ij')"
   ]
  },
  {
   "cell_type": "code",
   "execution_count": null,
   "metadata": {
    "collapsed": true
   },
   "outputs": [],
   "source": [
    "x -= 64; y -= 64; z -=64 "
   ]
  },
  {
   "cell_type": "code",
   "execution_count": null,
   "metadata": {
    "collapsed": true
   },
   "outputs": [],
   "source": [
    "field = 2*np.exp(-(x**2 + y**2 + z**2))*(2*(x**2 + y**2 + z**2) - 3)"
   ]
  },
  {
   "cell_type": "code",
   "execution_count": null,
   "metadata": {
    "collapsed": true
   },
   "outputs": [],
   "source": [
    "density = field + 0j"
   ]
  },
  {
   "cell_type": "code",
   "execution_count": null,
   "metadata": {},
   "outputs": [],
   "source": [
    "# density holds the rhs of the poisson eq.\n",
    "# forward FFT of the rhs\n",
    "print(\"Starting forward FFT of the density field ...\")\n",
    "print(\"... FFT of the 3rd axis ...\")\n",
    "for i in range(Nmesh):\n",
    "    for j in range(Nmesh):\n",
    "        density[i,j,:] = fft(density[i,j,:])\n",
    "\n",
    "print(\"... FFT of the 2nd axis ...\")\n",
    "for i in range(Nmesh):\n",
    "    for j in range(Nmesh):\n",
    "        density[i,:,j] = fft(density[i,:,j])\n",
    "        \n",
    "print(\"... FFT of the 1st axis ...\")\n",
    "for i in range(Nmesh):\n",
    "    for j in range(Nmesh):\n",
    "        density[:,i,j] = fft(density[:,i,j])\n",
    "print(\"... forward FFT finished.\")\n",
    "# density is now in k-space\n",
    "    \n",
    "# solving the potential in fourier space\n",
    "print(\"Solving the potential in fourier space ...\")\n",
    "W = np.exp(2.0 * np.pi * 1j / Nmesh)\n",
    "Wm = 1.0; Wn = 1.0; Wl = 1.0;\n",
    "for m in range(Nmesh):\n",
    "    for n in range(Nmesh):\n",
    "        for l in range(Nmesh):\n",
    "            denom = -6.\n",
    "            denom += Wm + 1.0 / Wm + Wn + 1.0 / Wn + Wl + 1.0 / Wl\n",
    "            if (denom != 0.0): density[m][n][l] *= 1. / denom\n",
    "            Wl *= W\n",
    "        Wn *= W\n",
    "    Wm *= W\n",
    "print(\"... done.\")\n",
    "# density hold now the potential in k-space\n",
    "    \n",
    "# inverse FFT of the potential\n",
    "print(\"Starting inverse FFT of the potential ...\")\n",
    "print(\"... FFT of the 3rd axis ...\")\n",
    "for i in range(Nmesh):\n",
    "    for j in range(Nmesh):\n",
    "        density[i,j,:] = fft(density[i,j,:], inverse=True)\n",
    "\n",
    "print(\"... FFT of the 2nd axis ...\")\n",
    "for i in range(Nmesh):\n",
    "    for j in range(Nmesh):\n",
    "        density[i,:,j] = fft(density[i,:,j], inverse=True)\n",
    "        \n",
    "print(\"... FFT of the 1st axis ...\")\n",
    "for i in range(Nmesh):\n",
    "    for j in range(Nmesh):\n",
    "        density[:,i,j] = fft(density[:,i,j], inverse=True)\n",
    "print(\"... inverse FFT finished.\")\n",
    "# density is now in x-space"
   ]
  },
  {
   "cell_type": "code",
   "execution_count": null,
   "metadata": {
    "collapsed": true
   },
   "outputs": [],
   "source": [
    "solution = np.real_if_close(density)"
   ]
  },
  {
   "cell_type": "code",
   "execution_count": null,
   "metadata": {},
   "outputs": [],
   "source": [
    "(solution-analytic).max()"
   ]
  },
  {
   "cell_type": "code",
   "execution_count": null,
   "metadata": {
    "collapsed": true
   },
   "outputs": [],
   "source": [
    "analytic = np.exp(-(x**2 + y**2 + z**2))"
   ]
  },
  {
   "cell_type": "code",
   "execution_count": null,
   "metadata": {
    "collapsed": true
   },
   "outputs": [],
   "source": [
    "pos_g = np.loadtxt('data/gadget/simulation/g_z0p000_pos_sim')\n",
    "pos_l = np.loadtxt('data/lpicola/simulation/l_z0p000_pos_sim')"
   ]
  },
  {
   "cell_type": "code",
   "execution_count": null,
   "metadata": {
    "collapsed": true
   },
   "outputs": [],
   "source": [
    "err4gagdet = ICIC(Box=100, Nmesh=128, pos=pos_g, field=abs(analytic - solution))\n",
    "err4lpicola = ICIC(Box=100, Nmesh=128, pos=pos_l, field=abs(analytic - solution))"
   ]
  },
  {
   "cell_type": "code",
   "execution_count": null,
   "metadata": {
    "collapsed": true
   },
   "outputs": [],
   "source": [
    "err4gagdet = np.loadtxt('data/gadget/err4gadget_100mesh')\n",
    "err4lpicola = np.loadtxt('data/lpicola/err4lpicola_100mesh')"
   ]
  },
  {
   "cell_type": "code",
   "execution_count": null,
   "metadata": {},
   "outputs": [],
   "source": [
    "err4gagdet.max(), err4lpicola.max()"
   ]
  },
  {
   "cell_type": "code",
   "execution_count": null,
   "metadata": {
    "collapsed": true
   },
   "outputs": [],
   "source": [
    "# images of the potential field in the first 3 slices of the box\n",
    "\n",
    "j, k = 0, 0\n",
    "for i in range(3):\n",
    "    \n",
    "    plt.figure(i+1, figsize=(18,7))\n",
    "    \n",
    "    j = int((i+1)*len(l_z0p000_pos)/64)\n",
    "    \n",
    "    min_value, max_value = l_z0p000_gpot.min(), l_z0p000_gpot.max()\n",
    "    x = l_z0p000_pos[k:j,1]\n",
    "    y = l_z0p000_pos[k:j,2]\n",
    "    z = l_z0p000_gpot[k:j] - max_value\n",
    "    \n",
    "    k = j\n",
    "    \n",
    "    plt.subplot(1,2,1)\n",
    "    partposition = plt.hist2d(x, y, bins=200, cmap='jet')[3]\n",
    "    plt.colorbar(partposition)\n",
    "    \n",
    "    plt.subplot(1,2,2)\n",
    "    # define grid.\n",
    "    npts = 1000\n",
    "    xi = np.linspace(0, 100, npts)\n",
    "    yi = np.linspace(0, 100, npts)\n",
    "    b = np.linspace(min_value - max_value, 0, 100, endpoint=True)\n",
    "    # grid the data.\n",
    "    zi = griddata(x, y, z, xi, yi, interp='linear')\n",
    "    # contour the gridded data, plotting dots at the nonuniform data points.\n",
    "    CS = plt.contour(xi, yi, zi, 15, linewidths=0.5, colors='k')\n",
    "    CS = plt.contourf(xi, yi, zi, b, vmin=(min_value - max_value), vmax=0)\n",
    "    # draw colorbar\n",
    "    plt.colorbar()\n",
    "    # plot data points.\n",
    "    plt.xlim(0, 100)\n",
    "    plt.ylim(0, 100)\n",
    "    \n",
    "    #plt.savefig('images/test_out_z0p000.{}.png'.format(i))\n",
    "    plt.show()\n",
    "    plt.clf"
   ]
  }
 ],
 "metadata": {
  "kernelspec": {
   "display_name": "Python 3",
   "language": "python",
   "name": "python3"
  },
  "language_info": {
   "codemirror_mode": {
    "name": "ipython",
    "version": 3
   },
   "file_extension": ".py",
   "mimetype": "text/x-python",
   "name": "python",
   "nbconvert_exporter": "python",
   "pygments_lexer": "ipython3",
   "version": "3.6.1"
  }
 },
 "nbformat": 4,
 "nbformat_minor": 2
}
